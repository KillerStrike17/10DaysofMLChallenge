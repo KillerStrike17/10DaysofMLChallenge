{
  "nbformat": 4,
  "nbformat_minor": 0,
  "metadata": {
    "colab": {
      "name": "Detox-With-TPU- Day 3-10DaysofMLChallenge",
      "provenance": [],
      "collapsed_sections": [],
      "toc_visible": true,
      "authorship_tag": "ABX9TyNGPufiODDhz+FQXX+u5d53",
      "include_colab_link": true
    },
    "kernelspec": {
      "name": "python3",
      "display_name": "Python 3"
    },
    "accelerator": "TPU"
  },
  "cells": [
    {
      "cell_type": "markdown",
      "metadata": {
        "id": "view-in-github",
        "colab_type": "text"
      },
      "source": [
        "<a href=\"https://colab.research.google.com/github/KillerStrike17/10DaysofMLChallenge/blob/master/Day3/Detox_With_TPU_Day_3_10DaysofMLChallenge.ipynb\" target=\"_parent\"><img src=\"https://colab.research.google.com/assets/colab-badge.svg\" alt=\"Open In Colab\"/></a>"
      ]
    },
    {
      "cell_type": "markdown",
      "metadata": {
        "id": "MhT11b1b0FeE",
        "colab_type": "text"
      },
      "source": [
        "# Day3"
      ]
    },
    {
      "cell_type": "markdown",
      "metadata": {
        "id": "huwcdrLk0IiB",
        "colab_type": "text"
      },
      "source": [
        "## Problem Statement\n",
        "\n",
        "Analyze the Toxicity of comment's \n",
        "\n",
        "Data\n",
        "\n",
        "! wget https://www.dropbox.com/s/ggl9krhh6dcwhhz/train.csv\n",
        "\n",
        "! wget https://www.dropbox.com/s/tst2y6mzwzbhxo3/test.csv"
      ]
    },
    {
      "cell_type": "markdown",
      "metadata": {
        "id": "f0oVvVTG0KT_",
        "colab_type": "text"
      },
      "source": [
        "### Importing Library: Calling the Gods"
      ]
    },
    {
      "cell_type": "code",
      "metadata": {
        "id": "KS468bGqzums",
        "colab_type": "code",
        "colab": {
          "base_uri": "https://localhost:8080/",
          "height": 34
        },
        "outputId": "8eb64d33-0e35-4296-cf65-39bf0c3e4303"
      },
      "source": [
        "%tensorflow_version 2.x\n",
        "import tensorflow as tf\n",
        "from tensorflow.keras.layers import Dense, Input, LSTM, Embedding, Dropout, Activation\n",
        "from tensorflow.keras.layers import Bidirectional, GlobalMaxPool1D,Bidirectional\n",
        "from tensorflow.keras.models import Model\n",
        "from tensorflow.keras.preprocessing.text import Tokenizer\n",
        "from tensorflow.keras.preprocessing.sequence import pad_sequences\n",
        "import os\n",
        "import numpy as np\n",
        "import gc\n",
        "import pandas as pd"
      ],
      "execution_count": 1,
      "outputs": [
        {
          "output_type": "stream",
          "text": [
            "TensorFlow 2.x selected.\n"
          ],
          "name": "stdout"
        }
      ]
    },
    {
      "cell_type": "code",
      "metadata": {
        "id": "UHQtPXqX02pc",
        "colab_type": "code",
        "outputId": "4d6130d6-50c2-459f-9a15-fddf9091f531",
        "colab": {
          "base_uri": "https://localhost:8080/",
          "height": 34
        }
      },
      "source": [
        "print(tf.__version__)"
      ],
      "execution_count": 2,
      "outputs": [
        {
          "output_type": "stream",
          "text": [
            "2.1.0\n"
          ],
          "name": "stdout"
        }
      ]
    },
    {
      "cell_type": "code",
      "metadata": {
        "id": "yTm8CJBYdv7O",
        "colab_type": "code",
        "colab": {
          "base_uri": "https://localhost:8080/",
          "height": 138
        },
        "outputId": "2d2f1e75-b7d4-4557-8810-72e30fd0800a"
      },
      "source": [
        "#Setting the Tensorflow Environment\n",
        "resolver = tf.distribute.cluster_resolver.TPUClusterResolver(tpu='grpc://' + os.environ['COLAB_TPU_ADDR'])\n",
        "tf.config.experimental_connect_to_cluster(resolver)\n",
        "tf.tpu.experimental.initialize_tpu_system(resolver)"
      ],
      "execution_count": 3,
      "outputs": [
        {
          "output_type": "stream",
          "text": [
            "INFO:tensorflow:Initializing the TPU system: 10.2.128.250:8470\n"
          ],
          "name": "stdout"
        },
        {
          "output_type": "stream",
          "text": [
            "INFO:tensorflow:Initializing the TPU system: 10.2.128.250:8470\n"
          ],
          "name": "stderr"
        },
        {
          "output_type": "stream",
          "text": [
            "INFO:tensorflow:Clearing out eager caches\n"
          ],
          "name": "stdout"
        },
        {
          "output_type": "stream",
          "text": [
            "INFO:tensorflow:Clearing out eager caches\n"
          ],
          "name": "stderr"
        },
        {
          "output_type": "stream",
          "text": [
            "INFO:tensorflow:Finished initializing TPU system.\n"
          ],
          "name": "stdout"
        },
        {
          "output_type": "stream",
          "text": [
            "INFO:tensorflow:Finished initializing TPU system.\n"
          ],
          "name": "stderr"
        },
        {
          "output_type": "execute_result",
          "data": {
            "text/plain": [
              "<tensorflow.python.tpu.topology.Topology at 0x7f105ee54e48>"
            ]
          },
          "metadata": {
            "tags": []
          },
          "execution_count": 3
        }
      ]
    },
    {
      "cell_type": "markdown",
      "metadata": {
        "id": "6_yLqV9v3Zlv",
        "colab_type": "text"
      },
      "source": [
        "### Getting Dataset"
      ]
    },
    {
      "cell_type": "code",
      "metadata": {
        "id": "lvH4GI8Z3Y4p",
        "colab_type": "code",
        "outputId": "cb8ff44b-cae9-4cf4-9012-aeda7d786d3c",
        "colab": {
          "base_uri": "https://localhost:8080/",
          "height": 384
        }
      },
      "source": [
        "!wget \"https://www.dropbox.com/s/ggl9krhh6dcwhhz/train.csv\""
      ],
      "execution_count": 4,
      "outputs": [
        {
          "output_type": "stream",
          "text": [
            "--2020-03-25 14:26:00--  https://www.dropbox.com/s/ggl9krhh6dcwhhz/train.csv\n",
            "Resolving www.dropbox.com (www.dropbox.com)... 162.125.8.1, 2620:100:601b:1::a27d:801\n",
            "Connecting to www.dropbox.com (www.dropbox.com)|162.125.8.1|:443... connected.\n",
            "HTTP request sent, awaiting response... 301 Moved Permanently\n",
            "Location: /s/raw/ggl9krhh6dcwhhz/train.csv [following]\n",
            "--2020-03-25 14:26:00--  https://www.dropbox.com/s/raw/ggl9krhh6dcwhhz/train.csv\n",
            "Reusing existing connection to www.dropbox.com:443.\n",
            "HTTP request sent, awaiting response... 302 Found\n",
            "Location: https://uc6056360083e0b31fd492ebf37f.dl.dropboxusercontent.com/cd/0/inline/A0mVYSgUmysCPsw3hquiqapxCOzBLzoFheTvMIuY9zh6KAEZ0RPOuVUxTSLxaB-V_kY6fpxdeGbqxx_Ppuapo70LSqhj2FcGjqlIkN9OZH_pqw/file# [following]\n",
            "--2020-03-25 14:26:00--  https://uc6056360083e0b31fd492ebf37f.dl.dropboxusercontent.com/cd/0/inline/A0mVYSgUmysCPsw3hquiqapxCOzBLzoFheTvMIuY9zh6KAEZ0RPOuVUxTSLxaB-V_kY6fpxdeGbqxx_Ppuapo70LSqhj2FcGjqlIkN9OZH_pqw/file\n",
            "Resolving uc6056360083e0b31fd492ebf37f.dl.dropboxusercontent.com (uc6056360083e0b31fd492ebf37f.dl.dropboxusercontent.com)... 162.125.8.6, 2620:100:601b:6::a27d:806\n",
            "Connecting to uc6056360083e0b31fd492ebf37f.dl.dropboxusercontent.com (uc6056360083e0b31fd492ebf37f.dl.dropboxusercontent.com)|162.125.8.6|:443... connected.\n",
            "HTTP request sent, awaiting response... 200 OK\n",
            "Length: 68802655 (66M) [text/plain]\n",
            "Saving to: ‘train.csv’\n",
            "\n",
            "train.csv           100%[===================>]  65.62M  39.9MB/s    in 1.6s    \n",
            "\n",
            "2020-03-25 14:26:03 (39.9 MB/s) - ‘train.csv’ saved [68802655/68802655]\n",
            "\n"
          ],
          "name": "stdout"
        }
      ]
    },
    {
      "cell_type": "code",
      "metadata": {
        "id": "O0E8jZBI05OK",
        "colab_type": "code",
        "outputId": "59a8078c-6f78-49d2-df53-b3523aff516d",
        "colab": {
          "base_uri": "https://localhost:8080/",
          "height": 384
        }
      },
      "source": [
        "!wget \"https://www.dropbox.com/s/tst2y6mzwzbhxo3/test.csv\""
      ],
      "execution_count": 5,
      "outputs": [
        {
          "output_type": "stream",
          "text": [
            "--2020-03-25 14:26:04--  https://www.dropbox.com/s/tst2y6mzwzbhxo3/test.csv\n",
            "Resolving www.dropbox.com (www.dropbox.com)... 162.125.8.1, 2620:100:601b:1::a27d:801\n",
            "Connecting to www.dropbox.com (www.dropbox.com)|162.125.8.1|:443... connected.\n",
            "HTTP request sent, awaiting response... 301 Moved Permanently\n",
            "Location: /s/raw/tst2y6mzwzbhxo3/test.csv [following]\n",
            "--2020-03-25 14:26:04--  https://www.dropbox.com/s/raw/tst2y6mzwzbhxo3/test.csv\n",
            "Reusing existing connection to www.dropbox.com:443.\n",
            "HTTP request sent, awaiting response... 302 Found\n",
            "Location: https://ucd1b9c65f3d3c7a3cc662a05cc1.dl.dropboxusercontent.com/cd/0/inline/A0kyKh-Q6p_Upgg8BwwoChKhff_OXwwfyp3_o0o3RR_14NizOLtC1L7tDICEQeS9gA60EnMQXIiR6HiIm1OnYiXE6NqNRDp7sbhqU2V7nYVaBA/file# [following]\n",
            "--2020-03-25 14:26:04--  https://ucd1b9c65f3d3c7a3cc662a05cc1.dl.dropboxusercontent.com/cd/0/inline/A0kyKh-Q6p_Upgg8BwwoChKhff_OXwwfyp3_o0o3RR_14NizOLtC1L7tDICEQeS9gA60EnMQXIiR6HiIm1OnYiXE6NqNRDp7sbhqU2V7nYVaBA/file\n",
            "Resolving ucd1b9c65f3d3c7a3cc662a05cc1.dl.dropboxusercontent.com (ucd1b9c65f3d3c7a3cc662a05cc1.dl.dropboxusercontent.com)... 162.125.8.6, 2620:100:601b:6::a27d:806\n",
            "Connecting to ucd1b9c65f3d3c7a3cc662a05cc1.dl.dropboxusercontent.com (ucd1b9c65f3d3c7a3cc662a05cc1.dl.dropboxusercontent.com)|162.125.8.6|:443... connected.\n",
            "HTTP request sent, awaiting response... 200 OK\n",
            "Length: 27511524 (26M) [text/plain]\n",
            "Saving to: ‘test.csv’\n",
            "\n",
            "test.csv            100%[===================>]  26.24M  30.9MB/s    in 0.8s    \n",
            "\n",
            "2020-03-25 14:26:06 (30.9 MB/s) - ‘test.csv’ saved [27511524/27511524]\n",
            "\n"
          ],
          "name": "stdout"
        }
      ]
    },
    {
      "cell_type": "code",
      "metadata": {
        "id": "2piJ7kGP31iE",
        "colab_type": "code",
        "outputId": "4c657609-6630-4a1b-8b4a-ffef6745b948",
        "colab": {
          "base_uri": "https://localhost:8080/",
          "height": 210
        }
      },
      "source": [
        "# Code to Mount drive to colab\n",
        "from google.colab import drive\n",
        "drive.mount('/content/gdrive')\n",
        "# Code to copy the data from drive\n",
        "!cp /content/gdrive/My\\ Drive/Dataset/Glove\\ Model/glove.6B.zip /content/\n",
        "!unzip glove.6B.zip"
      ],
      "execution_count": 6,
      "outputs": [
        {
          "output_type": "stream",
          "text": [
            "Go to this URL in a browser: https://accounts.google.com/o/oauth2/auth?client_id=947318989803-6bn6qk8qdgf4n4g3pfee6491hc0brc4i.apps.googleusercontent.com&redirect_uri=urn%3aietf%3awg%3aoauth%3a2.0%3aoob&response_type=code&scope=email%20https%3a%2f%2fwww.googleapis.com%2fauth%2fdocs.test%20https%3a%2f%2fwww.googleapis.com%2fauth%2fdrive%20https%3a%2f%2fwww.googleapis.com%2fauth%2fdrive.photos.readonly%20https%3a%2f%2fwww.googleapis.com%2fauth%2fpeopleapi.readonly\n",
            "\n",
            "Enter your authorization code:\n",
            "··········\n",
            "Mounted at /content/gdrive\n",
            "Archive:  glove.6B.zip\n",
            "  inflating: glove.6B.50d.txt        \n",
            "  inflating: glove.6B.100d.txt       \n",
            "  inflating: glove.6B.200d.txt       \n",
            "  inflating: glove.6B.300d.txt       \n"
          ],
          "name": "stdout"
        }
      ]
    },
    {
      "cell_type": "code",
      "metadata": {
        "id": "oYo9-_XfN-Tp",
        "colab_type": "code",
        "colab": {}
      },
      "source": [
        "train = pd.read_csv('train.csv')\n",
        "test = pd.read_csv('test.csv')\n",
        "classes = ['toxic', 'severe_toxic', 'obscene', 'threat', 'insult', 'identity_hate']\n",
        "train_x = train['comment_text']\n",
        "train_y = train[classes].values\n",
        "test_x = test['comment_text']"
      ],
      "execution_count": 0,
      "outputs": []
    },
    {
      "cell_type": "code",
      "metadata": {
        "id": "tDvj6QVyPbJb",
        "colab_type": "code",
        "colab": {
          "base_uri": "https://localhost:8080/",
          "height": 121
        },
        "outputId": "b42b9b60-fbee-4765-bdaf-4cdeb358f4a3"
      },
      "source": [
        "train_x.head()"
      ],
      "execution_count": 8,
      "outputs": [
        {
          "output_type": "execute_result",
          "data": {
            "text/plain": [
              "0    Explanation\\nWhy the edits made under my usern...\n",
              "1    D'aww! He matches this background colour I'm s...\n",
              "2    Hey man, I'm really not trying to edit war. It...\n",
              "3    \"\\nMore\\nI can't make any real suggestions on ...\n",
              "4    You, sir, are my hero. Any chance you remember...\n",
              "Name: comment_text, dtype: object"
            ]
          },
          "metadata": {
            "tags": []
          },
          "execution_count": 8
        }
      ]
    },
    {
      "cell_type": "code",
      "metadata": {
        "id": "6QZMnpIAPkOQ",
        "colab_type": "code",
        "colab": {
          "base_uri": "https://localhost:8080/",
          "height": 138
        },
        "outputId": "979032ef-c14b-468d-cc40-bfc68d83e694"
      },
      "source": [
        "train_y"
      ],
      "execution_count": 9,
      "outputs": [
        {
          "output_type": "execute_result",
          "data": {
            "text/plain": [
              "array([[0, 0, 0, 0, 0, 0],\n",
              "       [0, 0, 0, 0, 0, 0],\n",
              "       [0, 0, 0, 0, 0, 0],\n",
              "       ...,\n",
              "       [0, 0, 0, 0, 0, 0],\n",
              "       [0, 0, 0, 0, 0, 0],\n",
              "       [0, 0, 0, 0, 0, 0]])"
            ]
          },
          "metadata": {
            "tags": []
          },
          "execution_count": 9
        }
      ]
    },
    {
      "cell_type": "code",
      "metadata": {
        "id": "N-OQZqJjPdHf",
        "colab_type": "code",
        "colab": {
          "base_uri": "https://localhost:8080/",
          "height": 121
        },
        "outputId": "0776cc5f-c856-4ab4-cd97-5c2e5adc26ed"
      },
      "source": [
        "test_x.head()"
      ],
      "execution_count": 10,
      "outputs": [
        {
          "output_type": "execute_result",
          "data": {
            "text/plain": [
              "0    Thank you for understanding. I think very high...\n",
              "1                     :Dear god this site is horrible.\n",
              "2    \"::: Somebody will invariably try to add Relig...\n",
              "3    \" \\n\\n It says it right there that it IS a typ...\n",
              "4    \" \\n\\n == Before adding a new product to the l...\n",
              "Name: comment_text, dtype: object"
            ]
          },
          "metadata": {
            "tags": []
          },
          "execution_count": 10
        }
      ]
    },
    {
      "cell_type": "markdown",
      "metadata": {
        "id": "RrJfKfN8rE3x",
        "colab_type": "text"
      },
      "source": [
        "### Model Building"
      ]
    },
    {
      "cell_type": "code",
      "metadata": {
        "colab_type": "code",
        "id": "NmTH1oyQP27f",
        "colab": {}
      },
      "source": [
        "maxlen = 200 # cuts off reviews after 200 words\n",
        "max_words = 20000 # Dictionary Limit"
      ],
      "execution_count": 0,
      "outputs": []
    },
    {
      "cell_type": "code",
      "metadata": {
        "id": "8awjTXWLQN3-",
        "colab_type": "code",
        "colab": {
          "base_uri": "https://localhost:8080/",
          "height": 34
        },
        "outputId": "3ec52f57-ed68-426c-948a-9cbed06e785a"
      },
      "source": [
        "tokenizer = Tokenizer(num_words=max_words)\n",
        "tokenizer.fit_on_texts(list(train_x))\n",
        "train_sequences = tokenizer.texts_to_sequences(train_x)\n",
        "test_sequences =  tokenizer.texts_to_sequences(test_x)\n",
        "word_index = tokenizer.word_index\n",
        "print('Found %s unique tokens.' % len(word_index))\n",
        "X_train = pad_sequences(train_sequences, maxlen=maxlen)\n",
        "X_test = pad_sequences(test_sequences, maxlen=maxlen)"
      ],
      "execution_count": 12,
      "outputs": [
        {
          "output_type": "stream",
          "text": [
            "Found 210337 unique tokens.\n"
          ],
          "name": "stdout"
        }
      ]
    },
    {
      "cell_type": "code",
      "metadata": {
        "id": "ml7hdSX7IqJl",
        "colab_type": "code",
        "colab": {
          "base_uri": "https://localhost:8080/",
          "height": 52
        },
        "outputId": "a2865f80-b389-4203-cabb-bdcaf97bb69c"
      },
      "source": [
        "glove_dir = '/content'\n",
        "embedding_dim = 50\n",
        "embeddings_index = {}\n",
        "f = open(os.path.join(glove_dir, 'glove.6B.{}d.txt'.format(embedding_dim)))\n",
        "for line in f:\n",
        "  values = line.split()\n",
        "  word = values[0]\n",
        "  coefs = np.asarray(values[1:], dtype='float32')\n",
        "  embeddings_index[word] = coefs\n",
        "\n",
        "f.close()\n",
        "\n",
        "print('Found %s word vectors.' %len(embeddings_index))\n",
        "gc.collect()"
      ],
      "execution_count": 18,
      "outputs": [
        {
          "output_type": "stream",
          "text": [
            "Found 400000 word vectors.\n"
          ],
          "name": "stdout"
        },
        {
          "output_type": "execute_result",
          "data": {
            "text/plain": [
              "165"
            ]
          },
          "metadata": {
            "tags": []
          },
          "execution_count": 18
        }
      ]
    },
    {
      "cell_type": "code",
      "metadata": {
        "id": "66-eRNnmMze4",
        "colab_type": "code",
        "colab": {}
      },
      "source": [
        "embedding_matrix = np.zeros((max_words, embedding_dim))\n",
        "# print(max_words)\n",
        "for word, i in word_index.items():\n",
        "  if i < max_words:\n",
        "    embedding_vector = embeddings_index.get(word)\n",
        "    if embedding_vector is not None:\n",
        "      embedding_matrix[i] = embedding_vector"
      ],
      "execution_count": 0,
      "outputs": []
    },
    {
      "cell_type": "code",
      "metadata": {
        "id": "xWa5iML9SaU3",
        "colab_type": "code",
        "colab": {}
      },
      "source": [
        "def mymodel():\n",
        "  input_layer = Input(shape=(maxlen, ))\n",
        "  x = Embedding(max_words, embedding_dim, input_length=maxlen)(input_layer)\n",
        "  x = Bidirectional(LSTM(60, return_sequences=True,name='lstm_layer',dropout=0.1,recurrent_dropout=0.1))(x)\n",
        "  x = Bidirectional(LSTM(60, return_sequences=True,name='lstm_layer2',dropout=0.2,recurrent_dropout=0.2))(x)\n",
        "  x = GlobalMaxPool1D()(x)\n",
        "  x = Dropout(0.1)(x)\n",
        "  x = Dense(50, activation=\"relu\")(x)\n",
        "  x = Dropout(0.1)(x)\n",
        "  output_layer = Dense(6, activation=\"sigmoid\")(x)\n",
        "  model = Model(inputs=input_layer, outputs=output_layer)\n",
        "  model.compile(loss='binary_crossentropy',optimizer='adam',metrics=['accuracy'])\n",
        "  return model\n"
      ],
      "execution_count": 0,
      "outputs": []
    },
    {
      "cell_type": "markdown",
      "metadata": {
        "id": "j-nnWTlyr6PM",
        "colab_type": "text"
      },
      "source": [
        "### Model Training\n"
      ]
    },
    {
      "cell_type": "markdown",
      "metadata": {
        "id": "mKFDyKnHsKmQ",
        "colab_type": "text"
      },
      "source": [
        "#### With TPU"
      ]
    },
    {
      "cell_type": "code",
      "metadata": {
        "id": "TMY7P0Vwb3Ll",
        "colab_type": "code",
        "colab": {
          "base_uri": "https://localhost:8080/",
          "height": 1000
        },
        "outputId": "40c35c4f-04cd-4dcb-8f0f-c74ca99794ea"
      },
      "source": [
        "strategy = tf.distribute.experimental.TPUStrategy(resolver)\n",
        "with strategy.scope():\n",
        "  model = mymodel()\n",
        "model.summary()\n",
        "history = model.fit(X_train,train_y,epochs=15,batch_size=197 * 8,validation_split=0.20)"
      ],
      "execution_count": 29,
      "outputs": [
        {
          "output_type": "stream",
          "text": [
            "INFO:tensorflow:Found TPU system:\n"
          ],
          "name": "stdout"
        },
        {
          "output_type": "stream",
          "text": [
            "INFO:tensorflow:Found TPU system:\n"
          ],
          "name": "stderr"
        },
        {
          "output_type": "stream",
          "text": [
            "INFO:tensorflow:*** Num TPU Cores: 8\n"
          ],
          "name": "stdout"
        },
        {
          "output_type": "stream",
          "text": [
            "INFO:tensorflow:*** Num TPU Cores: 8\n"
          ],
          "name": "stderr"
        },
        {
          "output_type": "stream",
          "text": [
            "INFO:tensorflow:*** Num TPU Workers: 1\n"
          ],
          "name": "stdout"
        },
        {
          "output_type": "stream",
          "text": [
            "INFO:tensorflow:*** Num TPU Workers: 1\n"
          ],
          "name": "stderr"
        },
        {
          "output_type": "stream",
          "text": [
            "INFO:tensorflow:*** Num TPU Cores Per Worker: 8\n"
          ],
          "name": "stdout"
        },
        {
          "output_type": "stream",
          "text": [
            "INFO:tensorflow:*** Num TPU Cores Per Worker: 8\n"
          ],
          "name": "stderr"
        },
        {
          "output_type": "stream",
          "text": [
            "INFO:tensorflow:*** Available Device: _DeviceAttributes(/job:localhost/replica:0/task:0/device:CPU:0, CPU, 0, 0)\n"
          ],
          "name": "stdout"
        },
        {
          "output_type": "stream",
          "text": [
            "INFO:tensorflow:*** Available Device: _DeviceAttributes(/job:localhost/replica:0/task:0/device:CPU:0, CPU, 0, 0)\n"
          ],
          "name": "stderr"
        },
        {
          "output_type": "stream",
          "text": [
            "INFO:tensorflow:*** Available Device: _DeviceAttributes(/job:localhost/replica:0/task:0/device:XLA_CPU:0, XLA_CPU, 0, 0)\n"
          ],
          "name": "stdout"
        },
        {
          "output_type": "stream",
          "text": [
            "INFO:tensorflow:*** Available Device: _DeviceAttributes(/job:localhost/replica:0/task:0/device:XLA_CPU:0, XLA_CPU, 0, 0)\n"
          ],
          "name": "stderr"
        },
        {
          "output_type": "stream",
          "text": [
            "INFO:tensorflow:*** Available Device: _DeviceAttributes(/job:worker/replica:0/task:0/device:CPU:0, CPU, 0, 0)\n"
          ],
          "name": "stdout"
        },
        {
          "output_type": "stream",
          "text": [
            "INFO:tensorflow:*** Available Device: _DeviceAttributes(/job:worker/replica:0/task:0/device:CPU:0, CPU, 0, 0)\n"
          ],
          "name": "stderr"
        },
        {
          "output_type": "stream",
          "text": [
            "INFO:tensorflow:*** Available Device: _DeviceAttributes(/job:worker/replica:0/task:0/device:TPU:0, TPU, 0, 0)\n"
          ],
          "name": "stdout"
        },
        {
          "output_type": "stream",
          "text": [
            "INFO:tensorflow:*** Available Device: _DeviceAttributes(/job:worker/replica:0/task:0/device:TPU:0, TPU, 0, 0)\n"
          ],
          "name": "stderr"
        },
        {
          "output_type": "stream",
          "text": [
            "INFO:tensorflow:*** Available Device: _DeviceAttributes(/job:worker/replica:0/task:0/device:TPU:1, TPU, 0, 0)\n"
          ],
          "name": "stdout"
        },
        {
          "output_type": "stream",
          "text": [
            "INFO:tensorflow:*** Available Device: _DeviceAttributes(/job:worker/replica:0/task:0/device:TPU:1, TPU, 0, 0)\n"
          ],
          "name": "stderr"
        },
        {
          "output_type": "stream",
          "text": [
            "INFO:tensorflow:*** Available Device: _DeviceAttributes(/job:worker/replica:0/task:0/device:TPU:2, TPU, 0, 0)\n"
          ],
          "name": "stdout"
        },
        {
          "output_type": "stream",
          "text": [
            "INFO:tensorflow:*** Available Device: _DeviceAttributes(/job:worker/replica:0/task:0/device:TPU:2, TPU, 0, 0)\n"
          ],
          "name": "stderr"
        },
        {
          "output_type": "stream",
          "text": [
            "INFO:tensorflow:*** Available Device: _DeviceAttributes(/job:worker/replica:0/task:0/device:TPU:3, TPU, 0, 0)\n"
          ],
          "name": "stdout"
        },
        {
          "output_type": "stream",
          "text": [
            "INFO:tensorflow:*** Available Device: _DeviceAttributes(/job:worker/replica:0/task:0/device:TPU:3, TPU, 0, 0)\n"
          ],
          "name": "stderr"
        },
        {
          "output_type": "stream",
          "text": [
            "INFO:tensorflow:*** Available Device: _DeviceAttributes(/job:worker/replica:0/task:0/device:TPU:4, TPU, 0, 0)\n"
          ],
          "name": "stdout"
        },
        {
          "output_type": "stream",
          "text": [
            "INFO:tensorflow:*** Available Device: _DeviceAttributes(/job:worker/replica:0/task:0/device:TPU:4, TPU, 0, 0)\n"
          ],
          "name": "stderr"
        },
        {
          "output_type": "stream",
          "text": [
            "INFO:tensorflow:*** Available Device: _DeviceAttributes(/job:worker/replica:0/task:0/device:TPU:5, TPU, 0, 0)\n"
          ],
          "name": "stdout"
        },
        {
          "output_type": "stream",
          "text": [
            "INFO:tensorflow:*** Available Device: _DeviceAttributes(/job:worker/replica:0/task:0/device:TPU:5, TPU, 0, 0)\n"
          ],
          "name": "stderr"
        },
        {
          "output_type": "stream",
          "text": [
            "INFO:tensorflow:*** Available Device: _DeviceAttributes(/job:worker/replica:0/task:0/device:TPU:6, TPU, 0, 0)\n"
          ],
          "name": "stdout"
        },
        {
          "output_type": "stream",
          "text": [
            "INFO:tensorflow:*** Available Device: _DeviceAttributes(/job:worker/replica:0/task:0/device:TPU:6, TPU, 0, 0)\n"
          ],
          "name": "stderr"
        },
        {
          "output_type": "stream",
          "text": [
            "INFO:tensorflow:*** Available Device: _DeviceAttributes(/job:worker/replica:0/task:0/device:TPU:7, TPU, 0, 0)\n"
          ],
          "name": "stdout"
        },
        {
          "output_type": "stream",
          "text": [
            "INFO:tensorflow:*** Available Device: _DeviceAttributes(/job:worker/replica:0/task:0/device:TPU:7, TPU, 0, 0)\n"
          ],
          "name": "stderr"
        },
        {
          "output_type": "stream",
          "text": [
            "INFO:tensorflow:*** Available Device: _DeviceAttributes(/job:worker/replica:0/task:0/device:TPU_SYSTEM:0, TPU_SYSTEM, 0, 0)\n"
          ],
          "name": "stdout"
        },
        {
          "output_type": "stream",
          "text": [
            "INFO:tensorflow:*** Available Device: _DeviceAttributes(/job:worker/replica:0/task:0/device:TPU_SYSTEM:0, TPU_SYSTEM, 0, 0)\n"
          ],
          "name": "stderr"
        },
        {
          "output_type": "stream",
          "text": [
            "INFO:tensorflow:*** Available Device: _DeviceAttributes(/job:worker/replica:0/task:0/device:XLA_CPU:0, XLA_CPU, 0, 0)\n"
          ],
          "name": "stdout"
        },
        {
          "output_type": "stream",
          "text": [
            "INFO:tensorflow:*** Available Device: _DeviceAttributes(/job:worker/replica:0/task:0/device:XLA_CPU:0, XLA_CPU, 0, 0)\n"
          ],
          "name": "stderr"
        },
        {
          "output_type": "stream",
          "text": [
            "Model: \"model_2\"\n",
            "_________________________________________________________________\n",
            "Layer (type)                 Output Shape              Param #   \n",
            "=================================================================\n",
            "input_3 (InputLayer)         [(None, 200)]             0         \n",
            "_________________________________________________________________\n",
            "embedding_2 (Embedding)      (None, 200, 50)           1000000   \n",
            "_________________________________________________________________\n",
            "bidirectional_4 (Bidirection (None, 200, 120)          53280     \n",
            "_________________________________________________________________\n",
            "bidirectional_5 (Bidirection (None, 200, 120)          86880     \n",
            "_________________________________________________________________\n",
            "global_max_pooling1d_2 (Glob (None, 120)               0         \n",
            "_________________________________________________________________\n",
            "dropout_4 (Dropout)          (None, 120)               0         \n",
            "_________________________________________________________________\n",
            "dense_4 (Dense)              (None, 50)                6050      \n",
            "_________________________________________________________________\n",
            "dropout_5 (Dropout)          (None, 50)                0         \n",
            "_________________________________________________________________\n",
            "dense_5 (Dense)              (None, 6)                 306       \n",
            "=================================================================\n",
            "Total params: 1,146,516\n",
            "Trainable params: 1,146,516\n",
            "Non-trainable params: 0\n",
            "_________________________________________________________________\n",
            "Train on 127656 samples, validate on 31915 samples\n",
            "Epoch 1/15\n",
            "127656/127656 [==============================] - 38s 299us/sample - loss: 0.2223 - accuracy: 0.9431 - val_loss: 0.1415 - val_accuracy: 0.9635\n",
            "Epoch 2/15\n",
            "127656/127656 [==============================] - 23s 183us/sample - loss: 0.1476 - accuracy: 0.9633 - val_loss: 0.1403 - val_accuracy: 0.9635\n",
            "Epoch 3/15\n",
            "127656/127656 [==============================] - 23s 183us/sample - loss: 0.1234 - accuracy: 0.9647 - val_loss: 0.0849 - val_accuracy: 0.9729\n",
            "Epoch 4/15\n",
            "127656/127656 [==============================] - 23s 182us/sample - loss: 0.0739 - accuracy: 0.9757 - val_loss: 0.0631 - val_accuracy: 0.9796\n",
            "Epoch 5/15\n",
            "127656/127656 [==============================] - 23s 182us/sample - loss: 0.0600 - accuracy: 0.9803 - val_loss: 0.0559 - val_accuracy: 0.9808\n",
            "Epoch 6/15\n",
            "127656/127656 [==============================] - 23s 182us/sample - loss: 0.0522 - accuracy: 0.9816 - val_loss: 0.0515 - val_accuracy: 0.9816\n",
            "Epoch 7/15\n",
            "127656/127656 [==============================] - 23s 182us/sample - loss: 0.0477 - accuracy: 0.9826 - val_loss: 0.0504 - val_accuracy: 0.9821\n",
            "Epoch 8/15\n",
            "127656/127656 [==============================] - 23s 182us/sample - loss: 0.0449 - accuracy: 0.9833 - val_loss: 0.0506 - val_accuracy: 0.9820\n",
            "Epoch 9/15\n",
            "127656/127656 [==============================] - 23s 182us/sample - loss: 0.0434 - accuracy: 0.9834 - val_loss: 0.0509 - val_accuracy: 0.9821\n",
            "Epoch 10/15\n",
            "127656/127656 [==============================] - 23s 182us/sample - loss: 0.0421 - accuracy: 0.9839 - val_loss: 0.0509 - val_accuracy: 0.9821\n",
            "Epoch 11/15\n",
            "127656/127656 [==============================] - 23s 182us/sample - loss: 0.0408 - accuracy: 0.9843 - val_loss: 0.0514 - val_accuracy: 0.9820\n",
            "Epoch 12/15\n",
            "127656/127656 [==============================] - 23s 182us/sample - loss: 0.0397 - accuracy: 0.9847 - val_loss: 0.0522 - val_accuracy: 0.9819\n",
            "Epoch 13/15\n",
            "127656/127656 [==============================] - 23s 182us/sample - loss: 0.0386 - accuracy: 0.9850 - val_loss: 0.0537 - val_accuracy: 0.9814\n",
            "Epoch 14/15\n",
            "127656/127656 [==============================] - 23s 183us/sample - loss: 0.0409 - accuracy: 0.9842 - val_loss: 0.0565 - val_accuracy: 0.9814\n",
            "Epoch 15/15\n",
            "127656/127656 [==============================] - 23s 182us/sample - loss: 0.0382 - accuracy: 0.9850 - val_loss: 0.0559 - val_accuracy: 0.9812\n"
          ],
          "name": "stdout"
        }
      ]
    },
    {
      "cell_type": "code",
      "metadata": {
        "id": "Oiwq8Q9RRGIQ",
        "colab_type": "code",
        "colab": {}
      },
      "source": [
        "model.save_weights('/content/tpu_model.h5', overwrite=True)"
      ],
      "execution_count": 0,
      "outputs": []
    },
    {
      "cell_type": "code",
      "metadata": {
        "id": "ggzsqZBjRTXB",
        "colab_type": "code",
        "colab": {}
      },
      "source": [
        "inferencing_model = mymodel()\n",
        "inferencing_model.load_weights('/content/tpu_model.h5')"
      ],
      "execution_count": 0,
      "outputs": []
    },
    {
      "cell_type": "code",
      "metadata": {
        "id": "MhouDSGURcuu",
        "colab_type": "code",
        "colab": {}
      },
      "source": [
        "output = inferencing_model.predict(X_test)"
      ],
      "execution_count": 0,
      "outputs": []
    },
    {
      "cell_type": "code",
      "metadata": {
        "id": "H4YmD8aCR9i7",
        "colab_type": "code",
        "colab": {
          "base_uri": "https://localhost:8080/",
          "height": 34
        },
        "outputId": "82513a51-e6a8-4a67-b78b-b23e9cebdeb1"
      },
      "source": [
        "type(output)"
      ],
      "execution_count": 37,
      "outputs": [
        {
          "output_type": "execute_result",
          "data": {
            "text/plain": [
              "numpy.ndarray"
            ]
          },
          "metadata": {
            "tags": []
          },
          "execution_count": 37
        }
      ]
    },
    {
      "cell_type": "code",
      "metadata": {
        "id": "ceflfdIwS61M",
        "colab_type": "code",
        "colab": {
          "base_uri": "https://localhost:8080/",
          "height": 242
        },
        "outputId": "9b9ad5bd-f2a6-4324-e0cc-450c8d8d9eee"
      },
      "source": [
        "output"
      ],
      "execution_count": 38,
      "outputs": [
        {
          "output_type": "execute_result",
          "data": {
            "text/plain": [
              "array([[2.90404540e-03, 1.43104023e-06, 1.47655461e-04, 2.26350003e-05,\n",
              "        1.03372156e-04, 4.68166472e-05],\n",
              "       [7.01217413e-01, 3.01158894e-03, 1.23559520e-01, 1.78430378e-02,\n",
              "        1.37582034e-01, 2.54184958e-02],\n",
              "       [5.64030604e-04, 2.36152886e-07, 6.81846723e-05, 4.81286088e-06,\n",
              "        2.59895569e-05, 1.38065143e-05],\n",
              "       ...,\n",
              "       [1.16659775e-01, 1.01646896e-04, 6.93415198e-03, 1.23425294e-03,\n",
              "        8.39835964e-03, 2.15509627e-03],\n",
              "       [9.96936679e-01, 3.37710530e-01, 9.55392957e-01, 5.00955917e-02,\n",
              "        8.54037285e-01, 1.77240700e-01],\n",
              "       [3.14179953e-04, 8.41999466e-08, 2.80645527e-05, 1.82090162e-06,\n",
              "        1.04344481e-05, 5.18023307e-06]], dtype=float32)"
            ]
          },
          "metadata": {
            "tags": []
          },
          "execution_count": 38
        }
      ]
    },
    {
      "cell_type": "code",
      "metadata": {
        "id": "_aR1f3zsTfzs",
        "colab_type": "code",
        "colab": {
          "base_uri": "https://localhost:8080/",
          "height": 416
        },
        "outputId": "ca32124e-1b2a-43ef-817e-6a32f35b06df"
      },
      "source": [
        "df = pd.DataFrame(data = output,columns=['toxic', 'severe_toxic', 'obscene', 'threat', 'insult', 'identity_hate'])\n",
        "df"
      ],
      "execution_count": 39,
      "outputs": [
        {
          "output_type": "execute_result",
          "data": {
            "text/html": [
              "<div>\n",
              "<style scoped>\n",
              "    .dataframe tbody tr th:only-of-type {\n",
              "        vertical-align: middle;\n",
              "    }\n",
              "\n",
              "    .dataframe tbody tr th {\n",
              "        vertical-align: top;\n",
              "    }\n",
              "\n",
              "    .dataframe thead th {\n",
              "        text-align: right;\n",
              "    }\n",
              "</style>\n",
              "<table border=\"1\" class=\"dataframe\">\n",
              "  <thead>\n",
              "    <tr style=\"text-align: right;\">\n",
              "      <th></th>\n",
              "      <th>toxic</th>\n",
              "      <th>severe_toxic</th>\n",
              "      <th>obscene</th>\n",
              "      <th>threat</th>\n",
              "      <th>insult</th>\n",
              "      <th>identity_hate</th>\n",
              "    </tr>\n",
              "  </thead>\n",
              "  <tbody>\n",
              "    <tr>\n",
              "      <th>0</th>\n",
              "      <td>0.002904</td>\n",
              "      <td>1.431040e-06</td>\n",
              "      <td>0.000148</td>\n",
              "      <td>0.000023</td>\n",
              "      <td>0.000103</td>\n",
              "      <td>0.000047</td>\n",
              "    </tr>\n",
              "    <tr>\n",
              "      <th>1</th>\n",
              "      <td>0.701217</td>\n",
              "      <td>3.011589e-03</td>\n",
              "      <td>0.123560</td>\n",
              "      <td>0.017843</td>\n",
              "      <td>0.137582</td>\n",
              "      <td>0.025418</td>\n",
              "    </tr>\n",
              "    <tr>\n",
              "      <th>2</th>\n",
              "      <td>0.000564</td>\n",
              "      <td>2.361529e-07</td>\n",
              "      <td>0.000068</td>\n",
              "      <td>0.000005</td>\n",
              "      <td>0.000026</td>\n",
              "      <td>0.000014</td>\n",
              "    </tr>\n",
              "    <tr>\n",
              "      <th>3</th>\n",
              "      <td>0.000202</td>\n",
              "      <td>5.887585e-08</td>\n",
              "      <td>0.000029</td>\n",
              "      <td>0.000001</td>\n",
              "      <td>0.000008</td>\n",
              "      <td>0.000004</td>\n",
              "    </tr>\n",
              "    <tr>\n",
              "      <th>4</th>\n",
              "      <td>0.000239</td>\n",
              "      <td>7.102027e-08</td>\n",
              "      <td>0.000026</td>\n",
              "      <td>0.000001</td>\n",
              "      <td>0.000008</td>\n",
              "      <td>0.000004</td>\n",
              "    </tr>\n",
              "    <tr>\n",
              "      <th>...</th>\n",
              "      <td>...</td>\n",
              "      <td>...</td>\n",
              "      <td>...</td>\n",
              "      <td>...</td>\n",
              "      <td>...</td>\n",
              "      <td>...</td>\n",
              "    </tr>\n",
              "    <tr>\n",
              "      <th>63973</th>\n",
              "      <td>0.000566</td>\n",
              "      <td>2.185837e-07</td>\n",
              "      <td>0.000049</td>\n",
              "      <td>0.000005</td>\n",
              "      <td>0.000021</td>\n",
              "      <td>0.000011</td>\n",
              "    </tr>\n",
              "    <tr>\n",
              "      <th>63974</th>\n",
              "      <td>0.567598</td>\n",
              "      <td>1.080877e-03</td>\n",
              "      <td>0.125369</td>\n",
              "      <td>0.008836</td>\n",
              "      <td>0.099624</td>\n",
              "      <td>0.014385</td>\n",
              "    </tr>\n",
              "    <tr>\n",
              "      <th>63975</th>\n",
              "      <td>0.116660</td>\n",
              "      <td>1.016469e-04</td>\n",
              "      <td>0.006934</td>\n",
              "      <td>0.001234</td>\n",
              "      <td>0.008398</td>\n",
              "      <td>0.002155</td>\n",
              "    </tr>\n",
              "    <tr>\n",
              "      <th>63976</th>\n",
              "      <td>0.996937</td>\n",
              "      <td>3.377105e-01</td>\n",
              "      <td>0.955393</td>\n",
              "      <td>0.050096</td>\n",
              "      <td>0.854037</td>\n",
              "      <td>0.177241</td>\n",
              "    </tr>\n",
              "    <tr>\n",
              "      <th>63977</th>\n",
              "      <td>0.000314</td>\n",
              "      <td>8.419995e-08</td>\n",
              "      <td>0.000028</td>\n",
              "      <td>0.000002</td>\n",
              "      <td>0.000010</td>\n",
              "      <td>0.000005</td>\n",
              "    </tr>\n",
              "  </tbody>\n",
              "</table>\n",
              "<p>63978 rows × 6 columns</p>\n",
              "</div>"
            ],
            "text/plain": [
              "          toxic  severe_toxic   obscene    threat    insult  identity_hate\n",
              "0      0.002904  1.431040e-06  0.000148  0.000023  0.000103       0.000047\n",
              "1      0.701217  3.011589e-03  0.123560  0.017843  0.137582       0.025418\n",
              "2      0.000564  2.361529e-07  0.000068  0.000005  0.000026       0.000014\n",
              "3      0.000202  5.887585e-08  0.000029  0.000001  0.000008       0.000004\n",
              "4      0.000239  7.102027e-08  0.000026  0.000001  0.000008       0.000004\n",
              "...         ...           ...       ...       ...       ...            ...\n",
              "63973  0.000566  2.185837e-07  0.000049  0.000005  0.000021       0.000011\n",
              "63974  0.567598  1.080877e-03  0.125369  0.008836  0.099624       0.014385\n",
              "63975  0.116660  1.016469e-04  0.006934  0.001234  0.008398       0.002155\n",
              "63976  0.996937  3.377105e-01  0.955393  0.050096  0.854037       0.177241\n",
              "63977  0.000314  8.419995e-08  0.000028  0.000002  0.000010       0.000005\n",
              "\n",
              "[63978 rows x 6 columns]"
            ]
          },
          "metadata": {
            "tags": []
          },
          "execution_count": 39
        }
      ]
    },
    {
      "cell_type": "code",
      "metadata": {
        "id": "yg99EPpZUDaa",
        "colab_type": "code",
        "colab": {}
      },
      "source": [
        "df.insert(loc=0, column='id', value=test['id'])"
      ],
      "execution_count": 0,
      "outputs": []
    },
    {
      "cell_type": "code",
      "metadata": {
        "id": "22DRM_NmURb3",
        "colab_type": "code",
        "colab": {}
      },
      "source": [
        "df.to_csv('submission.csv')"
      ],
      "execution_count": 0,
      "outputs": []
    },
    {
      "cell_type": "markdown",
      "metadata": {
        "id": "1nQEOY85sMow",
        "colab_type": "text"
      },
      "source": [
        "#### Without TPU"
      ]
    },
    {
      "cell_type": "code",
      "metadata": {
        "id": "pfZ23aksUBYe",
        "colab_type": "code",
        "colab": {}
      },
      "source": [
        "model = mymodel()"
      ],
      "execution_count": 0,
      "outputs": []
    },
    {
      "cell_type": "code",
      "metadata": {
        "id": "KvWNIUmwUn3p",
        "colab_type": "code",
        "colab": {
          "base_uri": "https://localhost:8080/",
          "height": 468
        },
        "outputId": "009106bf-d6e3-4917-f8ea-bac45210320d"
      },
      "source": [
        "model.summary()"
      ],
      "execution_count": 22,
      "outputs": [
        {
          "output_type": "stream",
          "text": [
            "Model: \"model\"\n",
            "_________________________________________________________________\n",
            "Layer (type)                 Output Shape              Param #   \n",
            "=================================================================\n",
            "input_1 (InputLayer)         [(None, 200)]             0         \n",
            "_________________________________________________________________\n",
            "embedding (Embedding)        (None, 200, 50)           1000000   \n",
            "_________________________________________________________________\n",
            "bidirectional (Bidirectional (None, 200, 120)          53280     \n",
            "_________________________________________________________________\n",
            "bidirectional_1 (Bidirection (None, 200, 120)          86880     \n",
            "_________________________________________________________________\n",
            "global_max_pooling1d (Global (None, 120)               0         \n",
            "_________________________________________________________________\n",
            "dropout (Dropout)            (None, 120)               0         \n",
            "_________________________________________________________________\n",
            "dense (Dense)                (None, 50)                6050      \n",
            "_________________________________________________________________\n",
            "dropout_1 (Dropout)          (None, 50)                0         \n",
            "_________________________________________________________________\n",
            "dense_1 (Dense)              (None, 6)                 306       \n",
            "=================================================================\n",
            "Total params: 1,146,516\n",
            "Trainable params: 1,146,516\n",
            "Non-trainable params: 0\n",
            "_________________________________________________________________\n"
          ],
          "name": "stdout"
        }
      ]
    },
    {
      "cell_type": "code",
      "metadata": {
        "id": "-0-mHMAPUpRG",
        "colab_type": "code",
        "colab": {
          "base_uri": "https://localhost:8080/",
          "height": 52
        },
        "outputId": "030ac4bf-25f2-4399-ba51-f47470659660"
      },
      "source": [
        "batch_size = 1576\n",
        "epochs = 1\n",
        "hist = model.fit(X_train,train_y, batch_size=batch_size, epochs=epochs, validation_split=0.1)"
      ],
      "execution_count": 23,
      "outputs": [
        {
          "output_type": "stream",
          "text": [
            "Train on 143613 samples, validate on 15958 samples\n",
            "143613/143613 [==============================] - 239s 2ms/sample - loss: 0.2160 - accuracy: 0.9398 - val_loss: 0.1429 - val_accuracy: 0.9627\n"
          ],
          "name": "stdout"
        }
      ]
    },
    {
      "cell_type": "code",
      "metadata": {
        "id": "UHvLgtF0HH0N",
        "colab_type": "code",
        "colab": {
          "base_uri": "https://localhost:8080/",
          "height": 242
        },
        "outputId": "237d72eb-c20f-4cd4-e4cb-9a4758f16465"
      },
      "source": [
        "model.predict(X_test)"
      ],
      "execution_count": 24,
      "outputs": [
        {
          "output_type": "execute_result",
          "data": {
            "text/plain": [
              "array([[0.09140462, 0.01085911, 0.04745354, 0.00443642, 0.0454017 ,\n",
              "        0.00767749],\n",
              "       [0.09136528, 0.01084439, 0.04746079, 0.00443781, 0.0453743 ,\n",
              "        0.00768137],\n",
              "       [0.09135242, 0.01084729, 0.04747661, 0.00444211, 0.04542582,\n",
              "        0.00768338],\n",
              "       ...,\n",
              "       [0.09139293, 0.01084858, 0.04746617, 0.00444338, 0.04538468,\n",
              "        0.00768317],\n",
              "       [0.09138866, 0.01084536, 0.04743958, 0.00444103, 0.04541303,\n",
              "        0.00768201],\n",
              "       [0.09143018, 0.01085893, 0.04748628, 0.00443559, 0.04538461,\n",
              "        0.00768657]], dtype=float32)"
            ]
          },
          "metadata": {
            "tags": []
          },
          "execution_count": 24
        }
      ]
    },
    {
      "cell_type": "code",
      "metadata": {
        "id": "cBZsFBIcHLDT",
        "colab_type": "code",
        "colab": {
          "base_uri": "https://localhost:8080/",
          "height": 416
        },
        "outputId": "2c53f993-a525-4b05-d2e9-7000bd5951ef"
      },
      "source": [
        "test"
      ],
      "execution_count": 40,
      "outputs": [
        {
          "output_type": "execute_result",
          "data": {
            "text/html": [
              "<div>\n",
              "<style scoped>\n",
              "    .dataframe tbody tr th:only-of-type {\n",
              "        vertical-align: middle;\n",
              "    }\n",
              "\n",
              "    .dataframe tbody tr th {\n",
              "        vertical-align: top;\n",
              "    }\n",
              "\n",
              "    .dataframe thead th {\n",
              "        text-align: right;\n",
              "    }\n",
              "</style>\n",
              "<table border=\"1\" class=\"dataframe\">\n",
              "  <thead>\n",
              "    <tr style=\"text-align: right;\">\n",
              "      <th></th>\n",
              "      <th>Unnamed: 0</th>\n",
              "      <th>id</th>\n",
              "      <th>comment_text</th>\n",
              "      <th>toxic</th>\n",
              "      <th>severe_toxic</th>\n",
              "      <th>obscene</th>\n",
              "      <th>threat</th>\n",
              "      <th>insult</th>\n",
              "      <th>identity_hate</th>\n",
              "    </tr>\n",
              "  </thead>\n",
              "  <tbody>\n",
              "    <tr>\n",
              "      <th>0</th>\n",
              "      <td>5</td>\n",
              "      <td>0001ea8717f6de06</td>\n",
              "      <td>Thank you for understanding. I think very high...</td>\n",
              "      <td>0</td>\n",
              "      <td>0</td>\n",
              "      <td>0</td>\n",
              "      <td>0</td>\n",
              "      <td>0</td>\n",
              "      <td>0</td>\n",
              "    </tr>\n",
              "    <tr>\n",
              "      <th>1</th>\n",
              "      <td>7</td>\n",
              "      <td>000247e83dcc1211</td>\n",
              "      <td>:Dear god this site is horrible.</td>\n",
              "      <td>0</td>\n",
              "      <td>0</td>\n",
              "      <td>0</td>\n",
              "      <td>0</td>\n",
              "      <td>0</td>\n",
              "      <td>0</td>\n",
              "    </tr>\n",
              "    <tr>\n",
              "      <th>2</th>\n",
              "      <td>11</td>\n",
              "      <td>0002f87b16116a7f</td>\n",
              "      <td>\"::: Somebody will invariably try to add Relig...</td>\n",
              "      <td>0</td>\n",
              "      <td>0</td>\n",
              "      <td>0</td>\n",
              "      <td>0</td>\n",
              "      <td>0</td>\n",
              "      <td>0</td>\n",
              "    </tr>\n",
              "    <tr>\n",
              "      <th>3</th>\n",
              "      <td>13</td>\n",
              "      <td>0003e1cccfd5a40a</td>\n",
              "      <td>\" \\n\\n It says it right there that it IS a typ...</td>\n",
              "      <td>0</td>\n",
              "      <td>0</td>\n",
              "      <td>0</td>\n",
              "      <td>0</td>\n",
              "      <td>0</td>\n",
              "      <td>0</td>\n",
              "    </tr>\n",
              "    <tr>\n",
              "      <th>4</th>\n",
              "      <td>14</td>\n",
              "      <td>00059ace3e3e9a53</td>\n",
              "      <td>\" \\n\\n == Before adding a new product to the l...</td>\n",
              "      <td>0</td>\n",
              "      <td>0</td>\n",
              "      <td>0</td>\n",
              "      <td>0</td>\n",
              "      <td>0</td>\n",
              "      <td>0</td>\n",
              "    </tr>\n",
              "    <tr>\n",
              "      <th>...</th>\n",
              "      <td>...</td>\n",
              "      <td>...</td>\n",
              "      <td>...</td>\n",
              "      <td>...</td>\n",
              "      <td>...</td>\n",
              "      <td>...</td>\n",
              "      <td>...</td>\n",
              "      <td>...</td>\n",
              "      <td>...</td>\n",
              "    </tr>\n",
              "    <tr>\n",
              "      <th>63973</th>\n",
              "      <td>153150</td>\n",
              "      <td>fff8f64043129fa2</td>\n",
              "      <td>:Jerome, I see you never got around to this…! ...</td>\n",
              "      <td>0</td>\n",
              "      <td>0</td>\n",
              "      <td>0</td>\n",
              "      <td>0</td>\n",
              "      <td>0</td>\n",
              "      <td>0</td>\n",
              "    </tr>\n",
              "    <tr>\n",
              "      <th>63974</th>\n",
              "      <td>153151</td>\n",
              "      <td>fff9d70fe0722906</td>\n",
              "      <td>==Lucky bastard== \\n http://wikimediafoundatio...</td>\n",
              "      <td>0</td>\n",
              "      <td>0</td>\n",
              "      <td>0</td>\n",
              "      <td>0</td>\n",
              "      <td>0</td>\n",
              "      <td>0</td>\n",
              "    </tr>\n",
              "    <tr>\n",
              "      <th>63975</th>\n",
              "      <td>153154</td>\n",
              "      <td>fffa8a11c4378854</td>\n",
              "      <td>==shame on you all!!!== \\n\\n You want to speak...</td>\n",
              "      <td>0</td>\n",
              "      <td>0</td>\n",
              "      <td>0</td>\n",
              "      <td>0</td>\n",
              "      <td>0</td>\n",
              "      <td>0</td>\n",
              "    </tr>\n",
              "    <tr>\n",
              "      <th>63976</th>\n",
              "      <td>153155</td>\n",
              "      <td>fffac2a094c8e0e2</td>\n",
              "      <td>MEL GIBSON IS A NAZI BITCH WHO MAKES SHITTY MO...</td>\n",
              "      <td>1</td>\n",
              "      <td>0</td>\n",
              "      <td>1</td>\n",
              "      <td>0</td>\n",
              "      <td>1</td>\n",
              "      <td>0</td>\n",
              "    </tr>\n",
              "    <tr>\n",
              "      <th>63977</th>\n",
              "      <td>153156</td>\n",
              "      <td>fffb5451268fb5ba</td>\n",
              "      <td>\" \\n\\n == Unicorn lair discovery == \\n\\n Suppo...</td>\n",
              "      <td>0</td>\n",
              "      <td>0</td>\n",
              "      <td>0</td>\n",
              "      <td>0</td>\n",
              "      <td>0</td>\n",
              "      <td>0</td>\n",
              "    </tr>\n",
              "  </tbody>\n",
              "</table>\n",
              "<p>63978 rows × 9 columns</p>\n",
              "</div>"
            ],
            "text/plain": [
              "       Unnamed: 0                id  ... insult  identity_hate\n",
              "0               5  0001ea8717f6de06  ...      0              0\n",
              "1               7  000247e83dcc1211  ...      0              0\n",
              "2              11  0002f87b16116a7f  ...      0              0\n",
              "3              13  0003e1cccfd5a40a  ...      0              0\n",
              "4              14  00059ace3e3e9a53  ...      0              0\n",
              "...           ...               ...  ...    ...            ...\n",
              "63973      153150  fff8f64043129fa2  ...      0              0\n",
              "63974      153151  fff9d70fe0722906  ...      0              0\n",
              "63975      153154  fffa8a11c4378854  ...      0              0\n",
              "63976      153155  fffac2a094c8e0e2  ...      1              0\n",
              "63977      153156  fffb5451268fb5ba  ...      0              0\n",
              "\n",
              "[63978 rows x 9 columns]"
            ]
          },
          "metadata": {
            "tags": []
          },
          "execution_count": 40
        }
      ]
    },
    {
      "cell_type": "code",
      "metadata": {
        "id": "qpNfRULAUJ4F",
        "colab_type": "code",
        "colab": {}
      },
      "source": [
        ""
      ],
      "execution_count": 0,
      "outputs": []
    }
  ]
}